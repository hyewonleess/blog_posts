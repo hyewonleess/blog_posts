{
  "nbformat": 4,
  "nbformat_minor": 0,
  "metadata": {
    "colab": {
      "name": "1. cnn_basic.ipynb",
      "provenance": [],
      "collapsed_sections": []
    },
    "kernelspec": {
      "name": "python3",
      "display_name": "Python 3"
    },
    "language_info": {
      "name": "python"
    }
  },
  "cells": [
    {
      "cell_type": "markdown",
      "metadata": {
        "id": "Y22WwMQMLxwU"
      },
      "source": [
        "# CNN application: MNIST dataset"
      ]
    },
    {
      "cell_type": "code",
      "metadata": {
        "id": "Sfdck4wMzf5c"
      },
      "source": [
        "import pandas as pd\n",
        "import numpy as np\n",
        "import seaborn as sns\n",
        "import tensorflow as tf\n",
        "from tensorflow.keras import datasets, layers, models\n",
        "\n",
        "from keras.utils.np_utils import to_categorical\n",
        "from keras.models import Sequential\n",
        "from keras.layers import Dense, Dropout, Flatten, Conv2D, MaxPool2D\n",
        "\n",
        "import PIL\n",
        "from collections import OrderedDict\n",
        "import sys, os\n",
        "import matplotlib.pyplot as plt\n",
        "from matplotlib.image import imread\n",
        "import warnings\n",
        "warnings.filterwarnings('ignore')"
      ],
      "execution_count": 1,
      "outputs": []
    },
    {
      "cell_type": "code",
      "metadata": {
        "colab": {
          "base_uri": "https://localhost:8080/"
        },
        "id": "kbI_u_b5zzMc",
        "outputId": "4cf9ce57-7006-4073-889a-dd430cf34752"
      },
      "source": [
        "# load MNIST dataset\n",
        "(train_img, train_labels), (test_img, test_labels) = datasets.mnist.load_data()\n",
        "\n",
        "print(train_img.shape)\n",
        "print(test_img.shape)\n",
        "print(train_labels.shape)\n",
        "print(test_labels.shape)"
      ],
      "execution_count": 2,
      "outputs": [
        {
          "output_type": "stream",
          "text": [
            "Downloading data from https://storage.googleapis.com/tensorflow/tf-keras-datasets/mnist.npz\n",
            "11493376/11490434 [==============================] - 0s 0us/step\n",
            "(60000, 28, 28)\n",
            "(10000, 28, 28)\n",
            "(60000,)\n",
            "(10000,)\n"
          ],
          "name": "stdout"
        }
      ]
    },
    {
      "cell_type": "code",
      "metadata": {
        "colab": {
          "base_uri": "https://localhost:8080/"
        },
        "id": "ToPKuV6mHjmY",
        "outputId": "cfc42798-3fff-4158-f3b7-07aa9ffceb0c"
      },
      "source": [
        "# number of unique labels\n",
        "print(np.unique(train_labels))\n",
        "num_classes = len(np.unique(train_labels))"
      ],
      "execution_count": 3,
      "outputs": [
        {
          "output_type": "stream",
          "text": [
            "[0 1 2 3 4 5 6 7 8 9]\n"
          ],
          "name": "stdout"
        }
      ]
    },
    {
      "cell_type": "code",
      "metadata": {
        "colab": {
          "base_uri": "https://localhost:8080/",
          "height": 160
        },
        "id": "5MBD393m3GlP",
        "outputId": "e5595f49-0fc1-4648-fb26-64b8c5db561c"
      },
      "source": [
        "# preview images using 'imshow'\n",
        "fig, ax = plt.subplots(nrows = 1, ncols = 3)\n",
        "for i in range(3):\n",
        "  ax[i].imshow(train_img[i])\n",
        "\n",
        "plt.tight_layout()\n",
        "plt.show()"
      ],
      "execution_count": 4,
      "outputs": [
        {
          "output_type": "display_data",
          "data": {
            "image/png": "[encoded data removed]",
            "text/plain": [
              "<Figure size 432x288 with 3 Axes>"
            ]
          },
          "metadata": {
            "tags": [],
            "needs_background": "light"
          }
        }
      ]
    },
    {
      "cell_type": "markdown",
      "metadata": {
        "id": "cD4Riat6LujN"
      },
      "source": [
        "## Simple CNN model"
      ]
    },
    {
      "cell_type": "code",
      "metadata": {
        "id": "VQ0aC8Tb2id5"
      },
      "source": [
        "train_img = train_img.reshape((60000, 28, 28, 1))\n",
        "test_img = test_img.reshape((10000, 28, 28, 1))"
      ],
      "execution_count": 5,
      "outputs": []
    },
    {
      "cell_type": "code",
      "metadata": {
        "id": "GXCziTEyHeMI"
      },
      "source": [
        "# standardization of images\n",
        "train_img, test_img = train_img/255, test_img/255"
      ],
      "execution_count": 6,
      "outputs": []
    },
    {
      "cell_type": "code",
      "metadata": {
        "id": "OyUI_dHQLck5"
      },
      "source": [
        "# one-hot encoding labels\n",
        "train_labels = to_categorical(train_labels, num_classes = 10)\n",
        "test_labels = to_categorical(test_labels, num_classes = 10)"
      ],
      "execution_count": 7,
      "outputs": []
    },
    {
      "cell_type": "code",
      "metadata": {
        "id": "5s1wx3Fb4bND"
      },
      "source": [
        "# create layers\n",
        "model = Sequential()\n",
        "model.add(Conv2D(filters = 32, kernel_size = (3, 3), strides = (1, 1), padding = 'Same', activation = 'relu', input_shape = (28, 28, 1)))\n",
        "model.add(Conv2D(filters = 32, kernel_size = (3, 3), strides = (1, 1), padding = 'Same', activation = 'relu', input_shape = (28, 28, 1)))\n",
        "model.add(MaxPool2D(pool_size = (2, 2)))\n",
        "\n",
        "model.add(Conv2D(filters = 64, kernel_size = (3, 3), strides = (1, 1), padding = 'Same', activation = 'relu', input_shape = (28, 28, 1)))\n",
        "model.add(Conv2D(filters = 64, kernel_size = (3, 3), strides = (1, 1), padding = 'Same', activation = 'relu', input_shape = (28, 28, 1)))\n",
        "model.add(MaxPool2D(pool_size = (2, 2)))\n",
        "\n",
        "model.add(Flatten())\n",
        "model.add(Dense(256, activation = 'relu'))\n",
        "model.add(Dense(num_classes, activation = 'softmax'))"
      ],
      "execution_count": 8,
      "outputs": []
    },
    {
      "cell_type": "code",
      "metadata": {
        "colab": {
          "base_uri": "https://localhost:8080/"
        },
        "id": "APBbDWAhLRG7",
        "outputId": "d1c1f045-28cc-4402-e763-9de84bdefadb"
      },
      "source": [
        "model.summary()"
      ],
      "execution_count": 9,
      "outputs": [
        {
          "output_type": "stream",
          "text": [
            "Model: \"sequential\"\n",
            "_________________________________________________________________\n",
            "Layer (type)                 Output Shape              Param #   \n",
            "=================================================================\n",
            "conv2d (Conv2D)              (None, 28, 28, 32)        320       \n",
            "_________________________________________________________________\n",
            "conv2d_1 (Conv2D)            (None, 28, 28, 32)        9248      \n",
            "_________________________________________________________________\n",
            "max_pooling2d (MaxPooling2D) (None, 14, 14, 32)        0         \n",
            "_________________________________________________________________\n",
            "conv2d_2 (Conv2D)            (None, 14, 14, 64)        18496     \n",
            "_________________________________________________________________\n",
            "conv2d_3 (Conv2D)            (None, 14, 14, 64)        36928     \n",
            "_________________________________________________________________\n",
            "max_pooling2d_1 (MaxPooling2 (None, 7, 7, 64)          0         \n",
            "_________________________________________________________________\n",
            "flatten (Flatten)            (None, 3136)              0         \n",
            "_________________________________________________________________\n",
            "dense (Dense)                (None, 256)               803072    \n",
            "_________________________________________________________________\n",
            "dense_1 (Dense)              (None, 10)                2570      \n",
            "=================================================================\n",
            "Total params: 870,634\n",
            "Trainable params: 870,634\n",
            "Non-trainable params: 0\n",
            "_________________________________________________________________\n"
          ],
          "name": "stdout"
        }
      ]
    },
    {
      "cell_type": "code",
      "metadata": {
        "id": "b1-yJfDcLXbK"
      },
      "source": [
        "model.compile(optimizer='adam', loss = 'categorical_crossentropy', metrics = ['accuracy'])"
      ],
      "execution_count": 10,
      "outputs": []
    },
    {
      "cell_type": "code",
      "metadata": {
        "colab": {
          "base_uri": "https://localhost:8080/"
        },
        "id": "Fr2O181VMDmp",
        "outputId": "0bf287f6-9c17-4bad-a023-f407aa94c207"
      },
      "source": [
        "history = model.fit(train_img, train_labels, epochs = 5, validation_data = (test_img, test_labels), verbose = 1)\n",
        "model.evaluate(test_img, test_labels)"
      ],
      "execution_count": 11,
      "outputs": [
        {
          "output_type": "stream",
          "text": [
            "Epoch 1/5\n",
            "1875/1875 [==============================] - 271s 144ms/step - loss: 0.2352 - accuracy: 0.9256 - val_loss: 0.0358 - val_accuracy: 0.9879\n",
            "Epoch 2/5\n",
            "1875/1875 [==============================] - 273s 146ms/step - loss: 0.0350 - accuracy: 0.9892 - val_loss: 0.0361 - val_accuracy: 0.9886\n",
            "Epoch 3/5\n",
            "1875/1875 [==============================] - 273s 146ms/step - loss: 0.0233 - accuracy: 0.9924 - val_loss: 0.0201 - val_accuracy: 0.9929\n",
            "Epoch 4/5\n",
            "1875/1875 [==============================] - 271s 145ms/step - loss: 0.0145 - accuracy: 0.9952 - val_loss: 0.0282 - val_accuracy: 0.9917\n",
            "Epoch 5/5\n",
            "1875/1875 [==============================] - 272s 145ms/step - loss: 0.0104 - accuracy: 0.9970 - val_loss: 0.0246 - val_accuracy: 0.9925\n",
            "313/313 [==============================] - 10s 33ms/step - loss: 0.0246 - accuracy: 0.9925\n"
          ],
          "name": "stdout"
        },
        {
          "output_type": "execute_result",
          "data": {
            "text/plain": [
              "[0.024628108367323875, 0.9925000071525574]"
            ]
          },
          "metadata": {
            "tags": []
          },
          "execution_count": 11
        }
      ]
    },
    {
      "cell_type": "code",
      "metadata": {
        "colab": {
          "base_uri": "https://localhost:8080/",
          "height": 297
        },
        "id": "sfzqzC6cUr85",
        "outputId": "f0d9de27-9296-4d7c-e7a5-d31431982488"
      },
      "source": [
        "accuracy = history.history['accuracy']\n",
        "val_accuracy = history.history['val_accuracy']\n",
        "\n",
        "loss = history.history['loss']\n",
        "val_loss = history.history['val_loss']\n",
        "\n",
        "epochs_range = range(5)\n",
        "\n",
        "plt.figure(figsize = (6, 4))\n",
        "ax1 = plt.subplot(1, 2, 1)\n",
        "sns.lineplot(epochs_range, accuracy, label = 'Train accuracy', color = 'green', marker = 'o')\n",
        "sns.lineplot(epochs_range, val_accuracy, label = 'Test accuracy', color = 'red', marker = '^')\n",
        "plt.title('Accuracy', fontsize = 15)\n",
        "\n",
        "plt.subplot(1, 2, 2)\n",
        "sns.lineplot(epochs_range, loss, label = 'Train loss', color = 'green', marker = 'o')\n",
        "sns.lineplot(epochs_range, val_loss, label = 'Test loss', color = 'red', marker = '^')\n",
        "plt.title('Loss', fontsize = 15)\n",
        "\n",
        "plt.tight_layout()\n",
        "plt.show()"
      ],
      "execution_count": 12,
      "outputs": [
        {
          "output_type": "display_data",
          "data": {
            "image/png": "[encoded data removed]",
            "text/plain": [
              "<Figure size 432x288 with 2 Axes>"
            ]
          },
          "metadata": {
            "tags": [],
            "needs_background": "light"
          }
        }
      ]
    },
    {
      "cell_type": "markdown",
      "metadata": {
        "id": "G4Py40C7_Adb"
      },
      "source": [
        "## SImple CNN + Dropout Layer"
      ]
    },
    {
      "cell_type": "code",
      "metadata": {
        "id": "9tARIvQwZN1Z"
      },
      "source": [
        "# create layers\n",
        "model2 = Sequential()\n",
        "model2.add(Conv2D(filters = 32, kernel_size = (3, 3), strides = (1, 1), padding = 'Same', activation = 'relu', input_shape = (28, 28, 1)))\n",
        "model2.add(Conv2D(filters = 32, kernel_size = (3, 3), strides = (1, 1), padding = 'Same', activation = 'relu', input_shape = (28, 28, 1)))\n",
        "model2.add(MaxPool2D(pool_size = (2, 2)))\n",
        "model2.add(Dropout(0.2))\n",
        "\n",
        "model2.add(Conv2D(filters = 64, kernel_size = (3, 3), strides = (1, 1), padding = 'Same', activation = 'relu', input_shape = (28, 28, 1)))\n",
        "model2.add(Conv2D(filters = 64, kernel_size = (3, 3), strides = (1, 1), padding = 'Same', activation = 'relu', input_shape = (28, 28, 1)))\n",
        "model2.add(MaxPool2D(pool_size = (2, 2)))\n",
        "model2.add(Dropout(0.2))\n",
        "\n",
        "model2.add(Flatten())\n",
        "model2.add(Dense(256, activation = 'relu'))\n",
        "model2.add(Dropout(0.1))\n",
        "model2.add(Dense(num_classes, activation = 'softmax'))"
      ],
      "execution_count": 13,
      "outputs": []
    },
    {
      "cell_type": "code",
      "metadata": {
        "id": "-sO-cl5_ZUFU"
      },
      "source": [
        "model2.compile(optimizer='adam', loss = 'categorical_crossentropy', metrics = ['accuracy'])"
      ],
      "execution_count": 14,
      "outputs": []
    },
    {
      "cell_type": "code",
      "metadata": {
        "colab": {
          "base_uri": "https://localhost:8080/"
        },
        "id": "LhZ0AgB-zXuU",
        "outputId": "e04d81a9-91d4-40f6-934b-6d3d0638b23c"
      },
      "source": [
        "history2 = model2.fit(train_img, train_labels, epochs = 5, validation_data = (test_img, test_labels), verbose = 1)\n",
        "model2.evaluate(test_img, test_labels)"
      ],
      "execution_count": 15,
      "outputs": [
        {
          "output_type": "stream",
          "text": [
            "Epoch 1/5\n",
            "1875/1875 [==============================] - 283s 150ms/step - loss: 0.2838 - accuracy: 0.9062 - val_loss: 0.0375 - val_accuracy: 0.9874\n",
            "Epoch 2/5\n",
            "1875/1875 [==============================] - 280s 149ms/step - loss: 0.0460 - accuracy: 0.9860 - val_loss: 0.0303 - val_accuracy: 0.9903\n",
            "Epoch 3/5\n",
            "1875/1875 [==============================] - 270s 144ms/step - loss: 0.0332 - accuracy: 0.9895 - val_loss: 0.0213 - val_accuracy: 0.9921\n",
            "Epoch 4/5\n",
            "1875/1875 [==============================] - 263s 140ms/step - loss: 0.0267 - accuracy: 0.9916 - val_loss: 0.0243 - val_accuracy: 0.9922\n",
            "Epoch 5/5\n",
            "1875/1875 [==============================] - 285s 152ms/step - loss: 0.0202 - accuracy: 0.9936 - val_loss: 0.0255 - val_accuracy: 0.9924\n",
            "313/313 [==============================] - 11s 35ms/step - loss: 0.0255 - accuracy: 0.9924\n"
          ],
          "name": "stdout"
        },
        {
          "output_type": "execute_result",
          "data": {
            "text/plain": [
              "[0.02548738196492195, 0.9923999905586243]"
            ]
          },
          "metadata": {
            "tags": []
          },
          "execution_count": 15
        }
      ]
    },
    {
      "cell_type": "code",
      "metadata": {
        "colab": {
          "base_uri": "https://localhost:8080/",
          "height": 297
        },
        "id": "fnvVuxMwzUAN",
        "outputId": "fbdebb29-be6f-4867-cc99-f4159db8eb13"
      },
      "source": [
        "accuracy = history2.history['accuracy']\n",
        "val_accuracy = history2.history['val_accuracy']\n",
        "\n",
        "loss = history2.history['loss']\n",
        "val_loss = history2.history['val_loss']\n",
        "\n",
        "epochs_range = range(5)\n",
        "\n",
        "plt.figure(figsize = (6, 4))\n",
        "ax1 = plt.subplot(1, 2, 1)\n",
        "sns.lineplot(epochs_range, accuracy, label = 'Train accuracy', color = 'green', marker = 'o')\n",
        "sns.lineplot(epochs_range, val_accuracy, label = 'Test accuracy', color = 'red', marker = '^')\n",
        "plt.title('Accuracy', fontsize = 15)\n",
        "\n",
        "plt.subplot(1, 2, 2)\n",
        "sns.lineplot(epochs_range, loss, label = 'Train loss', color = 'green', marker = 'o')\n",
        "sns.lineplot(epochs_range, val_loss, label = 'Test loss', color = 'red', marker = '^')\n",
        "plt.title('Loss', fontsize = 15)\n",
        "\n",
        "plt.tight_layout()\n",
        "plt.show()"
      ],
      "execution_count": 16,
      "outputs": [
        {
          "output_type": "display_data",
          "data": {
            "image/png": "[encoded data removed]",
            "text/plain": [
              "<Figure size 432x288 with 2 Axes>"
            ]
          },
          "metadata": {
            "tags": [],
            "needs_background": "light"
          }
        }
      ]
    }
  ]
}