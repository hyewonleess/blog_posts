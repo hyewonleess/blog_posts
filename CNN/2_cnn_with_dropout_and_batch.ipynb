{
  "nbformat": 4,
  "nbformat_minor": 0,
  "metadata": {
    "colab": {
      "name": "2. cnn_with_dropout_and_batch",
      "provenance": [],
      "collapsed_sections": []
    },
    "kernelspec": {
      "name": "python3",
      "display_name": "Python 3"
    },
    "language_info": {
      "name": "python"
    }
  },
  "cells": [
    {
      "cell_type": "markdown",
      "metadata": {
        "id": "Y22WwMQMLxwU"
      },
      "source": [
        "# CNN application: MNIST dataset"
      ]
    },
    {
      "cell_type": "code",
      "metadata": {
        "id": "Sfdck4wMzf5c"
      },
      "source": [
        "import pandas as pd\n",
        "import numpy as np\n",
        "import seaborn as sns\n",
        "import tensorflow as tf\n",
        "from tensorflow.keras import datasets, layers, models\n",
        "\n",
        "from keras.utils.np_utils import to_categorical\n",
        "from keras.models import Sequential\n",
        "from keras.layers import Dense, Dropout, Flatten, Conv2D, MaxPool2D\n",
        "\n",
        "import PIL\n",
        "from collections import OrderedDict\n",
        "import sys, os\n",
        "import matplotlib.pyplot as plt\n",
        "from matplotlib.image import imread\n",
        "import warnings\n",
        "warnings.filterwarnings('ignore')"
      ],
      "execution_count": null,
      "outputs": []
    },
    {
      "cell_type": "code",
      "metadata": {
        "colab": {
          "base_uri": "https://localhost:8080/"
        },
        "id": "kbI_u_b5zzMc",
        "outputId": "30d83e88-6d44-4eeb-9ac4-9e20814a7fab"
      },
      "source": [
        "# load MNIST dataset\n",
        "(train_img, train_labels), (test_img, test_labels) = datasets.mnist.load_data()\n",
        "\n",
        "print(train_img.shape)\n",
        "print(test_img.shape)\n",
        "print(train_labels.shape)\n",
        "print(test_labels.shape)"
      ],
      "execution_count": null,
      "outputs": [
        {
          "output_type": "stream",
          "text": [
            "Downloading data from https://storage.googleapis.com/tensorflow/tf-keras-datasets/mnist.npz\n",
            "11493376/11490434 [==============================] - 0s 0us/step\n",
            "(60000, 28, 28)\n",
            "(10000, 28, 28)\n",
            "(60000,)\n",
            "(10000,)\n"
          ],
          "name": "stdout"
        }
      ]
    },
    {
      "cell_type": "code",
      "metadata": {
        "colab": {
          "base_uri": "https://localhost:8080/"
        },
        "id": "ToPKuV6mHjmY",
        "outputId": "c3235b3c-9783-41b8-a098-746db5953718"
      },
      "source": [
        "# number of unique labels\n",
        "print(np.unique(train_labels))\n",
        "num_classes = len(np.unique(train_labels))"
      ],
      "execution_count": null,
      "outputs": [
        {
          "output_type": "stream",
          "text": [
            "[0 1 2 3 4 5 6 7 8 9]\n"
          ],
          "name": "stdout"
        }
      ]
    },
    {
      "cell_type": "code",
      "metadata": {
        "colab": {
          "base_uri": "https://localhost:8080/",
          "height": 160
        },
        "id": "5MBD393m3GlP",
        "outputId": "67a8a80d-2c8d-4b6f-86b4-b6984350a8fe"
      },
      "source": [
        "# preview images using 'imshow'\n",
        "fig, ax = plt.subplots(nrows = 1, ncols = 3)\n",
        "for i in range(3):\n",
        "  ax[i].imshow(train_img[i])\n",
        "\n",
        "plt.tight_layout()\n",
        "plt.show()"
      ],
      "execution_count": null,
      "outputs": [
        {
          "output_type": "display_data",
          "data": {
            "image/png": "[encoded data removed]",
            "text/plain": [
              "<Figure size 432x288 with 3 Axes>"
            ]
          },
          "metadata": {
            "tags": [],
            "needs_background": "light"
          }
        }
      ]
    },
    {
      "cell_type": "code",
      "metadata": {
        "id": "VQ0aC8Tb2id5"
      },
      "source": [
        "train_img = train_img.reshape((60000, 28, 28, 1))\n",
        "test_img = test_img.reshape((10000, 28, 28, 1))"
      ],
      "execution_count": null,
      "outputs": []
    },
    {
      "cell_type": "code",
      "metadata": {
        "id": "GXCziTEyHeMI"
      },
      "source": [
        "# standardization of images\n",
        "train_img, test_img = train_img/255, test_img/255"
      ],
      "execution_count": null,
      "outputs": []
    },
    {
      "cell_type": "code",
      "metadata": {
        "id": "OyUI_dHQLck5"
      },
      "source": [
        "# one-hot encoding labels\n",
        "train_labels = to_categorical(train_labels, num_classes = 10)\n",
        "test_labels = to_categorical(test_labels, num_classes = 10)"
      ],
      "execution_count": null,
      "outputs": []
    },
    {
      "cell_type": "markdown",
      "metadata": {
        "id": "G4Py40C7_Adb"
      },
      "source": [
        "## SImple CNN + Dropout Layer"
      ]
    },
    {
      "cell_type": "code",
      "metadata": {
        "id": "XVG2jVeda3uQ"
      },
      "source": [
        "# 모델링 결과 plot 함수\n",
        "def plot_results(accuracy, val_accuracy, loss, val_loss):\n",
        "  plt.figure(figsize = (6, 4))\n",
        "  ax1 = plt.subplot(1, 2, 1)\n",
        "  epochs_range = range(1, 6)\n",
        "  sns.lineplot(epochs_range, accuracy, label = 'Train accuracy', color = 'green', marker = 'o')\n",
        "  sns.lineplot(epochs_range, val_accuracy, label = 'Test accuracy', color = 'red', marker = '^')\n",
        "  plt.title('Accuracy', fontsize = 15)\n",
        "  plt.xticks([1, 2, 3, 4, 5])\n",
        "  plt.xlabel('Epoch')\n",
        "\n",
        "  plt.subplot(1, 2, 2)\n",
        "  sns.lineplot(epochs_range, loss, label = 'Train loss', color = 'green', marker = 'o')\n",
        "  sns.lineplot(epochs_range, val_loss, label = 'Test loss', color = 'red', marker = '^')\n",
        "  plt.title('Loss', fontsize = 15)\n",
        "  plt.xticks([1, 2, 3, 4, 5])\n",
        "  plt.xlabel('Epoch')\n",
        "\n",
        "  plt.tight_layout()\n",
        "  plt.show()"
      ],
      "execution_count": null,
      "outputs": []
    },
    {
      "cell_type": "code",
      "metadata": {
        "id": "9tARIvQwZN1Z"
      },
      "source": [
        "# create layers\n",
        "model = Sequential()\n",
        "model.add(Conv2D(filters = 32, kernel_size = (3, 3), strides = (1, 1), padding = 'Same', activation = 'relu', input_shape = (28, 28, 1)))\n",
        "model.add(Conv2D(filters = 32, kernel_size = (3, 3), strides = (1, 1), padding = 'Same', activation = 'relu'))\n",
        "model.add(MaxPool2D(pool_size = (2, 2)))\n",
        "model.add(Dropout(0.1))\n",
        "\n",
        "model.add(Conv2D(filters = 64, kernel_size = (3, 3), strides = (1, 1), padding = 'Same', activation = 'relu', input_shape = (28, 28, 1)))\n",
        "model.add(Conv2D(filters = 64, kernel_size = (3, 3), strides = (1, 1), padding = 'Same', activation = 'relu'))\n",
        "model.add(MaxPool2D(pool_size = (2, 2)))\n",
        "model.add(Dropout(0.1))\n",
        "\n",
        "model.add(Flatten())\n",
        "model.add(Dense(256, activation = 'relu'))\n",
        "model.add(Dropout(0.1))\n",
        "model.add(Dense(num_classes, activation = 'softmax'))"
      ],
      "execution_count": null,
      "outputs": []
    },
    {
      "cell_type": "code",
      "metadata": {
        "id": "-sO-cl5_ZUFU"
      },
      "source": [
        "model.compile(optimizer='adam', loss = 'categorical_crossentropy', metrics = ['accuracy'])"
      ],
      "execution_count": null,
      "outputs": []
    },
    {
      "cell_type": "code",
      "metadata": {
        "colab": {
          "base_uri": "https://localhost:8080/"
        },
        "id": "LhZ0AgB-zXuU",
        "outputId": "f216a8c2-9c2f-4935-f10e-5addb3404adb"
      },
      "source": [
        "history = model.fit(train_img, train_labels, epochs = 5, validation_data = (test_img, test_labels), verbose = 1)\n",
        "model.evaluate(test_img, test_labels)"
      ],
      "execution_count": null,
      "outputs": [
        {
          "output_type": "stream",
          "text": [
            "Epoch 1/5\n",
            "1875/1875 [==============================] - 233s 124ms/step - loss: 0.2661 - accuracy: 0.9140 - val_loss: 0.0310 - val_accuracy: 0.9901\n",
            "Epoch 2/5\n",
            "1875/1875 [==============================] - 231s 123ms/step - loss: 0.0445 - accuracy: 0.9867 - val_loss: 0.0392 - val_accuracy: 0.9876\n",
            "Epoch 3/5\n",
            "1875/1875 [==============================] - 231s 123ms/step - loss: 0.0279 - accuracy: 0.9911 - val_loss: 0.0262 - val_accuracy: 0.9918\n",
            "Epoch 4/5\n",
            "1875/1875 [==============================] - 228s 122ms/step - loss: 0.0234 - accuracy: 0.9922 - val_loss: 0.0301 - val_accuracy: 0.9904\n",
            "Epoch 5/5\n",
            "1875/1875 [==============================] - 229s 122ms/step - loss: 0.0188 - accuracy: 0.9937 - val_loss: 0.0193 - val_accuracy: 0.9938\n",
            "313/313 [==============================] - 8s 25ms/step - loss: 0.0193 - accuracy: 0.9938\n"
          ],
          "name": "stdout"
        },
        {
          "output_type": "execute_result",
          "data": {
            "text/plain": [
              "[0.019299587234854698, 0.9937999844551086]"
            ]
          },
          "metadata": {
            "tags": []
          },
          "execution_count": 11
        }
      ]
    },
    {
      "cell_type": "code",
      "metadata": {
        "colab": {
          "base_uri": "https://localhost:8080/",
          "height": 297
        },
        "id": "fnvVuxMwzUAN",
        "outputId": "0ca9defe-3758-4c19-8525-aaa2690c7f9d"
      },
      "source": [
        "accuracy = history.history['accuracy']\n",
        "val_accuracy = history.history['val_accuracy']\n",
        "\n",
        "loss = history.history['loss']\n",
        "val_loss = history.history['val_loss']\n",
        "\n",
        "plot_results(accuracy, val_accuracy, loss, val_loss)"
      ],
      "execution_count": null,
      "outputs": [
        {
          "output_type": "display_data",
          "data": {
            "image/png": "[encoded data removed]",
            "text/plain": [
              "<Figure size 432x288 with 2 Axes>"
            ]
          },
          "metadata": {
            "tags": [],
            "needs_background": "light"
          }
        }
      ]
    },
    {
      "cell_type": "markdown",
      "metadata": {
        "id": "-THFtjoeqYix"
      },
      "source": [
        "## Batch\n",
        "Batch size list to test: 64, 128, 256, 512, 1024"
      ]
    },
    {
      "cell_type": "code",
      "metadata": {
        "id": "5545xbbSqVbd"
      },
      "source": [
        "# create layers\n",
        "model = Sequential()\n",
        "model.add(Conv2D(filters = 32, kernel_size = (3, 3), strides = (1, 1), padding = 'Same', activation = 'relu', input_shape = (28, 28, 1)))\n",
        "model.add(Conv2D(filters = 32, kernel_size = (3, 3), strides = (1, 1), padding = 'Same', activation = 'relu'))\n",
        "model.add(MaxPool2D(pool_size = (2, 2)))\n",
        "model.add(Dropout(0.1))\n",
        "\n",
        "model.add(Conv2D(filters = 64, kernel_size = (3, 3), strides = (1, 1), padding = 'Same', activation = 'relu', input_shape = (28, 28, 1)))\n",
        "model.add(Conv2D(filters = 64, kernel_size = (3, 3), strides = (1, 1), padding = 'Same', activation = 'relu'))\n",
        "model.add(MaxPool2D(pool_size = (2, 2)))\n",
        "model.add(Dropout(0.1))\n",
        "\n",
        "model.add(Flatten())\n",
        "model.add(Dense(256, activation = 'relu'))\n",
        "model.add(Dropout(0.1))\n",
        "model.add(Dense(num_classes, activation = 'softmax'))"
      ],
      "execution_count": null,
      "outputs": []
    },
    {
      "cell_type": "code",
      "metadata": {
        "id": "RRc00Y2OvdYD"
      },
      "source": [
        "model.compile(optimizer='adam', loss = 'categorical_crossentropy', metrics = ['accuracy'])"
      ],
      "execution_count": null,
      "outputs": []
    },
    {
      "cell_type": "code",
      "metadata": {
        "colab": {
          "base_uri": "https://localhost:8080/"
        },
        "id": "xNqfbLtmvd4g",
        "outputId": "68550fe2-961f-49ab-e096-8c7dddaea419"
      },
      "source": [
        "history = model.fit(train_img, train_labels, epochs = 5, validation_data = (test_img, test_labels), batch_size = 64, verbose = 1)"
      ],
      "execution_count": null,
      "outputs": [
        {
          "output_type": "stream",
          "text": [
            "Epoch 1/5\n",
            "938/938 [==============================] - 246s 262ms/step - loss: 0.3091 - accuracy: 0.8982 - val_loss: 0.0315 - val_accuracy: 0.9894\n",
            "Epoch 2/5\n",
            "938/938 [==============================] - 247s 263ms/step - loss: 0.0426 - accuracy: 0.9865 - val_loss: 0.0410 - val_accuracy: 0.9861\n",
            "Epoch 3/5\n",
            "938/938 [==============================] - 246s 262ms/step - loss: 0.0287 - accuracy: 0.9905 - val_loss: 0.0329 - val_accuracy: 0.9900\n",
            "Epoch 4/5\n",
            "938/938 [==============================] - 245s 261ms/step - loss: 0.0227 - accuracy: 0.9926 - val_loss: 0.0252 - val_accuracy: 0.9930\n",
            "Epoch 5/5\n",
            "938/938 [==============================] - 245s 262ms/step - loss: 0.0175 - accuracy: 0.9945 - val_loss: 0.0260 - val_accuracy: 0.9924\n"
          ],
          "name": "stdout"
        }
      ]
    },
    {
      "cell_type": "code",
      "metadata": {
        "colab": {
          "base_uri": "https://localhost:8080/"
        },
        "id": "B1m2TDSc_x7Q",
        "outputId": "3601a48e-acb9-4e81-9070-3f3567bec7f1"
      },
      "source": [
        "history1 = model.fit(train_img, train_labels, epochs = 5, validation_data = (test_img, test_labels), batch_size = 128, verbose = 1)"
      ],
      "execution_count": null,
      "outputs": [
        {
          "output_type": "stream",
          "text": [
            "Epoch 1/5\n",
            "469/469 [==============================] - 237s 504ms/step - loss: 0.0082 - accuracy: 0.9972 - val_loss: 0.0183 - val_accuracy: 0.9944\n",
            "Epoch 2/5\n",
            "469/469 [==============================] - 236s 502ms/step - loss: 0.0060 - accuracy: 0.9981 - val_loss: 0.0232 - val_accuracy: 0.9934\n",
            "Epoch 3/5\n",
            "469/469 [==============================] - 235s 502ms/step - loss: 0.0060 - accuracy: 0.9979 - val_loss: 0.0244 - val_accuracy: 0.9937\n",
            "Epoch 4/5\n",
            "469/469 [==============================] - 236s 502ms/step - loss: 0.0082 - accuracy: 0.9972 - val_loss: 0.0209 - val_accuracy: 0.9940\n",
            "Epoch 5/5\n",
            "469/469 [==============================] - 236s 503ms/step - loss: 0.0072 - accuracy: 0.9976 - val_loss: 0.0241 - val_accuracy: 0.9936\n"
          ],
          "name": "stdout"
        }
      ]
    },
    {
      "cell_type": "code",
      "metadata": {
        "colab": {
          "base_uri": "https://localhost:8080/"
        },
        "id": "A2QJ0Ssr0lxm",
        "outputId": "0b9e4aac-7650-46af-b9fd-64da6b96f719"
      },
      "source": [
        "history2 = model.fit(train_img, train_labels, epochs = 5, validation_data = (test_img, test_labels), batch_size = 256, verbose = 1)"
      ],
      "execution_count": null,
      "outputs": [
        {
          "output_type": "stream",
          "text": [
            "Epoch 1/5\n",
            "235/235 [==============================] - 231s 981ms/step - loss: 0.0026 - accuracy: 0.9992 - val_loss: 0.0239 - val_accuracy: 0.9941\n",
            "Epoch 2/5\n",
            "235/235 [==============================] - 229s 977ms/step - loss: 0.0017 - accuracy: 0.9995 - val_loss: 0.0228 - val_accuracy: 0.9947\n",
            "Epoch 3/5\n",
            "235/235 [==============================] - 230s 977ms/step - loss: 0.0016 - accuracy: 0.9995 - val_loss: 0.0235 - val_accuracy: 0.9943\n",
            "Epoch 4/5\n",
            "235/235 [==============================] - 229s 974ms/step - loss: 0.0021 - accuracy: 0.9994 - val_loss: 0.0244 - val_accuracy: 0.9945\n",
            "Epoch 5/5\n",
            "235/235 [==============================] - 230s 980ms/step - loss: 0.0017 - accuracy: 0.9994 - val_loss: 0.0304 - val_accuracy: 0.9940\n"
          ],
          "name": "stdout"
        }
      ]
    },
    {
      "cell_type": "code",
      "metadata": {
        "colab": {
          "base_uri": "https://localhost:8080/"
        },
        "id": "xFKIhdAb_pzy",
        "outputId": "dcff48ba-461d-46b3-da41-1de7522f7ace"
      },
      "source": [
        "history3 = model.fit(train_img, train_labels, epochs = 5, validation_data = (test_img, test_labels), batch_size = 512, verbose = 1)"
      ],
      "execution_count": null,
      "outputs": [
        {
          "output_type": "stream",
          "text": [
            "Epoch 1/5\n",
            "118/118 [==============================] - 227s 2s/step - loss: 8.7097e-04 - accuracy: 0.9998 - val_loss: 0.0275 - val_accuracy: 0.9942\n",
            "Epoch 2/5\n",
            "118/118 [==============================] - 226s 2s/step - loss: 5.4416e-04 - accuracy: 0.9998 - val_loss: 0.0309 - val_accuracy: 0.9941\n",
            "Epoch 3/5\n",
            "118/118 [==============================] - 226s 2s/step - loss: 4.1461e-04 - accuracy: 0.9998 - val_loss: 0.0289 - val_accuracy: 0.9951\n",
            "Epoch 4/5\n",
            "118/118 [==============================] - 226s 2s/step - loss: 4.6016e-04 - accuracy: 0.9998 - val_loss: 0.0315 - val_accuracy: 0.9947\n",
            "Epoch 5/5\n",
            "118/118 [==============================] - 225s 2s/step - loss: 0.0010 - accuracy: 0.9997 - val_loss: 0.0277 - val_accuracy: 0.9944\n"
          ],
          "name": "stdout"
        }
      ]
    },
    {
      "cell_type": "code",
      "metadata": {
        "colab": {
          "base_uri": "https://localhost:8080/"
        },
        "id": "jqst7t8L_3NN",
        "outputId": "f3eda0d2-e475-4740-c4ef-35aee397f8b6"
      },
      "source": [
        "history4 = model.fit(train_img, train_labels, epochs = 5, validation_data = (test_img, test_labels), batch_size = 1024, verbose = 1)"
      ],
      "execution_count": null,
      "outputs": [
        {
          "output_type": "stream",
          "text": [
            "Epoch 1/5\n",
            "59/59 [==============================] - 225s 4s/step - loss: 6.9938e-04 - accuracy: 0.9998 - val_loss: 0.0255 - val_accuracy: 0.9944\n",
            "Epoch 2/5\n",
            "59/59 [==============================] - 222s 4s/step - loss: 2.7471e-04 - accuracy: 0.9999 - val_loss: 0.0281 - val_accuracy: 0.9945\n",
            "Epoch 3/5\n",
            "59/59 [==============================] - 222s 4s/step - loss: 2.0319e-04 - accuracy: 0.9999 - val_loss: 0.0297 - val_accuracy: 0.9945\n",
            "Epoch 4/5\n",
            "59/59 [==============================] - 222s 4s/step - loss: 2.7883e-04 - accuracy: 0.9999 - val_loss: 0.0279 - val_accuracy: 0.9951\n",
            "Epoch 5/5\n",
            "59/59 [==============================] - 222s 4s/step - loss: 2.3679e-04 - accuracy: 0.9999 - val_loss: 0.0294 - val_accuracy: 0.9952\n"
          ],
          "name": "stdout"
        }
      ]
    },
    {
      "cell_type": "code",
      "metadata": {
        "id": "v_n9MOKi_fEj"
      },
      "source": [
        "# define results variables\n",
        "accuracy = history.history['accuracy']\n",
        "val_accuracy = history.history['val_accuracy']\n",
        "loss = history.history['loss']\n",
        "val_loss = history.history['val_loss']\n",
        "\n",
        "accuracy1 = history1.history['accuracy']\n",
        "val_accuracy1 = history1.history['val_accuracy']\n",
        "loss1 = history1.history['loss']\n",
        "val_loss1 = history1.history['val_loss']\n",
        "\n",
        "accuracy2 = history2.history['accuracy']\n",
        "val_accuracy2 = history2.history['val_accuracy']\n",
        "loss2 = history2.history['loss']\n",
        "val_loss2 = history2.history['val_loss']\n",
        "\n",
        "accuracy3 = history3.history['accuracy']\n",
        "val_accuracy3 = history3.history['val_accuracy']\n",
        "loss3 = history3.history['loss']\n",
        "val_loss3 = history3.history['val_loss']\n",
        "\n",
        "accuracy4 = history4.history['accuracy']\n",
        "val_accuracy4 = history4.history['val_accuracy']\n",
        "loss4 = history4.history['loss']\n",
        "val_loss4 = history4.history['val_loss']"
      ],
      "execution_count": null,
      "outputs": []
    },
    {
      "cell_type": "markdown",
      "metadata": {
        "id": "3CPnKn9jCh6y"
      },
      "source": [
        "### Plot Result"
      ]
    },
    {
      "cell_type": "code",
      "metadata": {
        "colab": {
          "base_uri": "https://localhost:8080/",
          "height": 297
        },
        "id": "eM8Cl-mB_sRr",
        "outputId": "a6e5908e-3da3-4ae1-d2e0-9c8bace92305"
      },
      "source": [
        "ax = plt.subplot(1, 1, 1)\n",
        "sns.lineplot(range(1, 6), val_accuracy, label = '64', color = 'red', marker = 'o')\n",
        "sns.lineplot(range(1, 6), val_accuracy1, label = '128', color = 'green', marker = 'o')\n",
        "sns.lineplot(range(1, 6), val_accuracy2, label = '256', color = 'blue', marker = 'o')\n",
        "sns.lineplot(range(1, 6), val_accuracy3, label = '512', color = 'purple', marker = 'o')\n",
        "sns.lineplot(range(1, 6), val_accuracy4, label = '1024', color = 'orange', marker = 'o')\n",
        "plt.title('Batch size accuracy comparison', fontsize = 15)\n",
        "plt.xticks([1, 2, 3, 4, 5])\n",
        "plt.ylabel('Test Accuracy')\n",
        "plt.xlabel('Epoch')\n",
        "\n",
        "plt.show()"
      ],
      "execution_count": null,
      "outputs": [
        {
          "output_type": "display_data",
          "data": {
            "image/png": "[encoded data removed]",
            "text/plain": [
              "<Figure size 432x288 with 1 Axes>"
            ]
          },
          "metadata": {
            "tags": [],
            "needs_background": "light"
          }
        }
      ]
    }
  ]
}